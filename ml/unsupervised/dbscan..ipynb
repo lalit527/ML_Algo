{
 "cells": [
  {
   "cell_type": "code",
   "execution_count": null,
   "metadata": {},
   "outputs": [],
   "source": [
    "import numpy as np\n",
    "import math"
   ]
  },
  {
   "cell_type": "code",
   "execution_count": 1,
   "metadata": {},
   "outputs": [],
   "source": [
    "def euclidean_distance(x1, x2):\n",
    "    distance = 0\n",
    "    for i in range(len(x1)):\n",
    "        distance += pow((x1[i] - x2[i]), 2)\n",
    "    return math.sqrt(distance)"
   ]
  },
  {
   "cell_type": "code",
   "execution_count": 4,
   "metadata": {},
   "outputs": [],
   "source": [
    "class DBScan:\n",
    "    def __init__(self, eps, min_samples=5):\n",
    "        self.eps = eps\n",
    "        self.min_samples = min_samples\n",
    "        \n",
    "    def _get_neighbors(self, sample_i):\n",
    "        neighbors = []\n",
    "        idxs = np.arange(len(self.X))\n",
    "        for i, _sample in enumerate(self.X[idxs != sample_i]):\n",
    "            distance = euclidean_distance(self.X[sample_i], _sample)\n",
    "            if distance < self.eps:\n",
    "                neighbors.append(i)\n",
    "        return np.array(neighbors)\n",
    "    \n",
    "    def _expand_cluster(self, sample_i, neighbours):\n",
    "        cluster = [sample_i]\n",
    "        for neighbor in neighbors:\n",
    "            if not neighbor in self.visited_samples:\n",
    "                self.visited_samples.append(neighbor)\n",
    "                self.neighbors[neighbor] = self._get_neighbors(neighbor)\n",
    "                if len(self.neighbors[neighbor]) >= self.min_samples:\n",
    "                    expanded_cluster = self._expand_cluster(neighbor, self.neighbors[neighbor])\n",
    "                    cluster = cluster + expanded_cluster\n",
    "                else:\n",
    "                    cluster.append(neighbor)\n",
    "        return cluster\n",
    "    \n",
    "    def _get_cluster_labels(self):\n",
    "        labels = np.full(shape=self.X.shape[0], fill_value=len(self.clusters))\n",
    "        for idx, cluster in enumerate(self.clusters):\n",
    "            for sample in cluster:\n",
    "                labels[sample] = idx\n",
    "        return labels\n",
    "    \n",
    "    def precit(self, X):\n",
    "        self.X = X\n",
    "        self.clusters = []\n",
    "        self.visited_samples = []\n",
    "        self.neighbors = {}\n",
    "        n_samples = np.shape(self.X)[0]\n",
    "        \n",
    "        for sample_i in range(n_samples):\n",
    "            if sample_i in self.visited_samples:\n",
    "                continue\n",
    "            self.neighbours[sample_i] = self._get_neighbors(sample_i)\n",
    "            if len(self.neighbors[sample_i]) >= self.min_samples:\n",
    "                self.visited_samples.sppend(sample_i)\n",
    "                new_cluster = self._expand_cluster(sample_i, self.neighbors[sample_i])\n",
    "                self.clusters.append(new_cluster)\n",
    "        cluster_labels = self._get_cluster_labels()\n",
    "        return cluster_labels"
   ]
  },
  {
   "cell_type": "code",
   "execution_count": null,
   "metadata": {},
   "outputs": [],
   "source": []
  }
 ],
 "metadata": {
  "kernelspec": {
   "display_name": "Python [conda env:venv-2]",
   "language": "python",
   "name": "conda-env-venv-2-py"
  },
  "language_info": {
   "codemirror_mode": {
    "name": "ipython",
    "version": 3
   },
   "file_extension": ".py",
   "mimetype": "text/x-python",
   "name": "python",
   "nbconvert_exporter": "python",
   "pygments_lexer": "ipython3",
   "version": "3.6.7"
  }
 },
 "nbformat": 4,
 "nbformat_minor": 2
}
