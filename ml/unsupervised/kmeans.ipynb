{
 "cells": [
  {
   "cell_type": "markdown",
   "metadata": {},
   "source": [
    "## Algorithm for KMeans"
   ]
  },
  {
   "cell_type": "markdown",
   "metadata": {},
   "source": [
    "1. Let  X = {x1,x2,x3,……..,xn} be the set of data points and V = {v1,v2,…….,vc} be the set of centers.\n",
    "2. Calculate the distance between each points and cluster centers.\n",
    "3. Assign the data point to the cluster center whose distance from the cluster center is minimum of  all the cluster center\n",
    "4. Recalculae the new cluster center using:\n",
    "$$ {v_i} = (1/{c_i}) \\sum_{j=1}^{c_i}{x_i} $$ where, ${c_i}$ represents the number of data points in ith cluster\n",
    "5. Recalculate the distance between each data point and new obtained cluster centers.\n",
    "6. If no data point was reassigned then stop, otherwise repeat from step 3."
   ]
  },
  {
   "cell_type": "code",
   "execution_count": 9,
   "metadata": {},
   "outputs": [],
   "source": [
    "import numpy as np\n",
    "import scipy as sp"
   ]
  },
  {
   "cell_type": "code",
   "execution_count": 2,
   "metadata": {},
   "outputs": [],
   "source": [
    "import sys\n",
    "sys.path.append(\"/Users/lality/projects/personal/ML_Algo/\")"
   ]
  },
  {
   "cell_type": "code",
   "execution_count": 4,
   "metadata": {},
   "outputs": [],
   "source": [
    "from ml.tools import *"
   ]
  },
  {
   "cell_type": "code",
   "execution_count": 11,
   "metadata": {},
   "outputs": [],
   "source": [
    "class KMeans:\n",
    "    def __init__(self, k=2, max_iterations=500):\n",
    "        self.k = k\n",
    "        self.max_iterations = max_iterations\n",
    "        \n",
    "    def initalize_kplus(X, k):\n",
    "        n_samples, n_features = np.shape(X)\n",
    "        for k in range(1, k):\n",
    "            D2 = sp.array([min([sp.inner(c-x, c-x) for c in C]) for x in X])\n",
    "        \n",
    "    def _init_random_centroids(self, X):\n",
    "        n_samples, n_features = np.shape(X)\n",
    "        centroids = np.zeros((self.k, n_features))\n",
    "        for i in range(self.k):\n",
    "            centroid = X[np.random.choice(range(n_samples))]\n",
    "            centroids[i] = centroid\n",
    "        return centroids\n",
    "    \n",
    "    def _closest_centroid(self, sample, centroids):\n",
    "        closest_i = 0\n",
    "        closest_dict = float('inf')\n",
    "        for i, centroid in enumerate(centroid):\n",
    "            distance = euclidean_distance(sample, centroid)\n",
    "            if distance < closet_dist:\n",
    "                closest_i = i\n",
    "                closest_distance = distance\n",
    "        return closest_i\n",
    "    \n",
    "    def _create_cluster(self, X):\n",
    "        n_samples, n_features = np.shape(X)\n",
    "        clusters = [[] for _ in range(self.k)]\n",
    "        for sample_i, sample in enumerate(X):\n",
    "            centroid_i = self._closest_centroid(sample, centroids)\n",
    "            clusters[centroid_i].append(sample_i)\n",
    "        return clusters\n",
    "    \n",
    "    def _calculate_centroids(self, cluster, X):\n",
    "        n_samples, n_features = np.shape(X)\n",
    "        centroid = np.zeros((self.k, n_features))\n",
    "        for i, cluster in enumerate(clusters):\n",
    "            centroid = np.mean(X[cluster], axis=0)\n",
    "            centroid[i] = centroid\n",
    "        return centroids\n",
    "    \n",
    "    def _get_cluster_labels(self, clusters, X):\n",
    "        n_samples, n_features = np.shape(X)\n",
    "        y_pred = np.zeros(n_samples)\n",
    "        for cluster_i, cluster in enumerate(clusters):\n",
    "            for sample_i in cluster:\n",
    "                y_pred[sample_i] = cluster_i\n",
    "        return y_pred\n",
    "\n",
    "    def predict(self, X):\n",
    "        centroids = self._init_random_centroids(X)\n",
    "        for _ in range(self.max_iterations):\n",
    "            clusters = self._create_cluster(centroids, X)\n",
    "            prev_centroids = centroids\n",
    "            centroids = self._calculate_centroids(clusters, X)\n",
    "            diff = centroids - prev_centroids\n",
    "            if not diff.any():\n",
    "                break\n",
    "        return self._get_cluster_labels(clusters, X)"
   ]
  },
  {
   "cell_type": "code",
   "execution_count": null,
   "metadata": {},
   "outputs": [],
   "source": []
  }
 ],
 "metadata": {
  "kernelspec": {
   "display_name": "Python [conda env:venv-2]",
   "language": "python",
   "name": "conda-env-venv-2-py"
  },
  "language_info": {
   "codemirror_mode": {
    "name": "ipython",
    "version": 3
   },
   "file_extension": ".py",
   "mimetype": "text/x-python",
   "name": "python",
   "nbconvert_exporter": "python",
   "pygments_lexer": "ipython3",
   "version": "3.6.7"
  }
 },
 "nbformat": 4,
 "nbformat_minor": 2
}
