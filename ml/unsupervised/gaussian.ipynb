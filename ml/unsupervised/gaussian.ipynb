{
 "cells": [
  {
   "cell_type": "code",
   "execution_count": 2,
   "metadata": {},
   "outputs": [],
   "source": [
    "import numpy as np\n",
    "import math\n",
    "import sys"
   ]
  },
  {
   "cell_type": "code",
   "execution_count": 3,
   "metadata": {},
   "outputs": [],
   "source": [
    "def normalize(X, axis=None, order=2):\n",
    "    l2 = np.atleast_1d(np.linalg.norm(X, order, axis))\n",
    "    l2[l2 == 0] = 1\n",
    "    return X / np.expand_dims(l2, axis)"
   ]
  },
  {
   "cell_type": "code",
   "execution_count": 4,
   "metadata": {},
   "outputs": [],
   "source": [
    "def euclidean_distance(x1, x2):\n",
    "    distance = 0\n",
    "    for i in range(len(x1)):\n",
    "        distance += pow((x1[i] - x2[i]), 2)\n",
    "    return math.sqrt(distance)"
   ]
  },
  {
   "cell_type": "code",
   "execution_count": 6,
   "metadata": {},
   "outputs": [],
   "source": [
    "def calculate_covariance_matrix(X, Y=None):\n",
    "    if Y is None:\n",
    "        Y = X\n",
    "    n_samples = np.shape(X)[0]\n",
    "    covariance_matrix = (1 / (n_samples - 1) * (X - X.mean(axis=0)).T.dot(Y - Y.mean(axis=0)))\n",
    "    return np.array(covariance_matrix, dtype=float)"
   ]
  },
  {
   "cell_type": "code",
   "execution_count": 9,
   "metadata": {},
   "outputs": [],
   "source": [
    "class GaussianMixtureModel:\n",
    "    def __init__(self, k=2, max_iterations=2000, tolerance=1e-8):\n",
    "        self.k = k\n",
    "        self.parameters = []\n",
    "        self.max_iterations = max_iterations\n",
    "        self.tolerance = tolerance\n",
    "        self.responsibilities = []\n",
    "        self.sample_assignments = None\n",
    "        self.responsibility = None\n",
    "    \n",
    "    def _init_random_gaussian(self, X):\n",
    "        n_samples = np.shape(X)[0]\n",
    "        self.priors = (1 / self.k) * np.ones(self.k)\n",
    "        for i in range(self.k):\n",
    "            params = {}\n",
    "            params[\"mean\"] = X[np.random.choice(range(n_samples))]\n",
    "            params[\"cov\"] = calculate_covariance_matrix(X)\n",
    "            self.parameters.append(params)\n",
    "    \n",
    "    def mutivariate_gaussian(self, X, params):\n",
    "        n_samples, n_features = np.shape(X)\n",
    "        mean = params[\"mean\"]\n",
    "        cov = params[\"cov\"]\n",
    "        determinant = np.linalg.det(cov)\n",
    "        likelihoods = np.zeros(n_samples)\n",
    "        for i, sample in enumerate(X):\n",
    "            coeff = (1.0 / (math.pow((2.0 * math.pi), n_features/2) * math.sqrt(determinant)))\n",
    "            exponent = math.exp(-0.5 * (sample - mean).T.dot(np.linalg.pinv(cov)).dot(sample - mean))\n",
    "            likelihoods[i] = coeff * exponent\n",
    "        return likelihoods\n",
    "    \n",
    "    def _get_likelihood(self, X):\n",
    "        n_samples = np.shape(X)[0]\n",
    "        likelihoods = np.zeros((n_samples, self.k))\n",
    "        for i in range(self.k):\n",
    "            likelihoods[:, i] = self.mutivariate_gaussian(X, self.parameters[i])\n",
    "        return likelihoods\n",
    "            \n",
    "    def _expectation(self, X):\n",
    "        weighted_likelihoods = self._get_likelihoods(X) * self.priors\n",
    "        sum_likelihoods = np.expand_dims(np.sum(weighted_likelihoods, axis=1), axis=1)\n",
    "        self.responsibility = weighted_likelihoods / sum_likelihoods\n",
    "        self.sample_assignments = self.responsibility.argmax(axis = 1)\n",
    "        self.responsibilities.append(np.max(self.responsibility, axis=1))\n",
    "        \n",
    "    def _maximization(self, X):\n",
    "        for i in range(self.k):\n",
    "            resp = np.expand_dims(self.responsibility[:, i], axis=1)\n",
    "            mean = (resp * X).sum(axis=0) / resp.sum()\n",
    "            covariance = (X - mean).T.dot((X - mean) * resp) / resp.sum()\n",
    "            self.parameters[i][\"mean\"], self.parameters[i][\"cov\"] = mean, covariance\n",
    "        n_samples = np.shape(X)[0]\n",
    "        self.priors = self.responsibility.sum(axis=0) / n_samples\n",
    "        \n",
    "    def _converged(self, X):\n",
    "        if len(self.responsibilities) < 2:\n",
    "            return False\n",
    "        diff = np.linalg.norm(self.responsibilities[-1] - self.responsibilities[-2])\n",
    "        return diff <= self.tolerance\n",
    "        \n",
    "    def predict(self, X):\n",
    "        self._init_random_gaussian(X)\n",
    "        for _ in range(self.max_iterations):\n",
    "            self._expectation(X)\n",
    "            self._maximization(X)\n",
    "            \n",
    "            if self._converged(X):\n",
    "                break\n",
    "        self._expectation(X)\n",
    "        self.sample_assignments"
   ]
  }
 ],
 "metadata": {
  "kernelspec": {
   "display_name": "Python [conda env:venv-2]",
   "language": "python",
   "name": "conda-env-venv-2-py"
  },
  "language_info": {
   "codemirror_mode": {
    "name": "ipython",
    "version": 3
   },
   "file_extension": ".py",
   "mimetype": "text/x-python",
   "name": "python",
   "nbconvert_exporter": "python",
   "pygments_lexer": "ipython3",
   "version": "3.6.7"
  }
 },
 "nbformat": 4,
 "nbformat_minor": 2
}
