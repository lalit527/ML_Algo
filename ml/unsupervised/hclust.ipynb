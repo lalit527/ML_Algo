{
 "cells": [
  {
   "cell_type": "code",
   "execution_count": 6,
   "metadata": {},
   "outputs": [],
   "source": [
    "import sys\n",
    "import math\n",
    "import os\n",
    "import heapq\n",
    "import itertools"
   ]
  },
  {
   "cell_type": "code",
   "execution_count": 7,
   "metadata": {},
   "outputs": [],
   "source": [
    "def euclidean_distance(x1, x2):\n",
    "    distance = 0\n",
    "    for i in range(len(x1)):\n",
    "        distance += pow((x1[i] - x2[i]), 2)\n",
    "    return math.sqrt(distance)"
   ]
  },
  {
   "cell_type": "code",
   "execution_count": null,
   "metadata": {},
   "outputs": [],
   "source": [
    "def compute_pairwise_distance(X):\n",
    "    result = []\n",
    "    n_samples = X.shape[0]\n",
    "    for i in range(n_samples-1):\n",
    "        for j in range(i+1, n_samples):\n",
    "            dist = euclidean_distance(X[i], X[j])\n",
    "            result.append((dist, [dist, [[i], [j]]]))\n",
    "    return result"
   ]
  },
  {
   "cell_type": "code",
   "execution_count": null,
   "metadata": {},
   "outputs": [],
   "source": [
    "def build_priority_queue(distance_list):\n",
    "    heapq.heapify(distance_list)\n",
    "    heap = distance_list\n",
    "    retrun heap"
   ]
  },
  {
   "cell_type": "code",
   "execution_count": null,
   "metadata": {},
   "outputs": [],
   "source": [
    "def compute_centroid(X, dim, data_point_index):\n",
    "    n_samples = X.shape[0]\n",
    "    centroid = [0.0] * dim\n",
    "    for idx in data_point_index:\n",
    "        dim_da"
   ]
  },
  {
   "cell_type": "code",
   "execution_count": 2,
   "metadata": {},
   "outputs": [],
   "source": [
    "class HierarchicalClustering:\n",
    "    def __init__(self, ipt_data, ipt_k):\n",
    "        self.input_file_name = ipt_data\n",
    "        self.k = ipt_k\n",
    "        self.dataset = None\n",
    "        self.dataset_size = 0\n",
    "        self.dimension = 0\n",
    "        self.heap = []\n",
    "        self.clusters = []\n",
    "        self.gold_standard = {}\n",
    "        \n",
    "    def fit(self, x):\n",
    "        n_samples = self.X.shape[0]\n",
    "        current_clusters = self.clusters\n",
    "        old_clusters = []\n",
    "        heap = hc.compute_pairwise_distance(X)\n",
    "        heap = hc.build_priority_queue(heap)"
   ]
  },
  {
   "cell_type": "code",
   "execution_count": 4,
   "metadata": {},
   "outputs": [],
   "source": []
  },
  {
   "cell_type": "code",
   "execution_count": 5,
   "metadata": {},
   "outputs": [],
   "source": []
  },
  {
   "cell_type": "code",
   "execution_count": null,
   "metadata": {},
   "outputs": [],
   "source": []
  }
 ],
 "metadata": {
  "kernelspec": {
   "display_name": "Python [conda env:venv-2]",
   "language": "python",
   "name": "conda-env-venv-2-py"
  },
  "language_info": {
   "codemirror_mode": {
    "name": "ipython",
    "version": 3
   },
   "file_extension": ".py",
   "mimetype": "text/x-python",
   "name": "python",
   "nbconvert_exporter": "python",
   "pygments_lexer": "ipython3",
   "version": "3.6.7"
  }
 },
 "nbformat": 4,
 "nbformat_minor": 2
}
