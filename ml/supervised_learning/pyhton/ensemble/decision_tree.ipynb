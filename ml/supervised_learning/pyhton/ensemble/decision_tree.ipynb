{
 "cells": [
  {
   "cell_type": "code",
   "execution_count": 4,
   "metadata": {},
   "outputs": [],
   "source": [
    "import numpy as np"
   ]
  },
  {
   "cell_type": "code",
   "execution_count": 5,
   "metadata": {},
   "outputs": [],
   "source": [
    "def calc_entropy(p):\n",
    "    if p != 0:\n",
    "        return -p * np.log2(p)\n",
    "    else:\n",
    "        return 0"
   ]
  },
  {
   "cell_type": "code",
   "execution_count": 8,
   "metadata": {},
   "outputs": [],
   "source": [
    "def calc_info_gain(data, classes, feature):\n",
    "    gain = 0\n",
    "    nData = len(data)\n",
    "    values = []\n",
    "    for datapoint in data:\n",
    "        if datapoint[feature] not in values:\n",
    "            values.append(datapoint[feature])\n",
    "    featureCounts = np.zeros(len(values))\n",
    "    entropy = np.zeros(len(values))\n",
    "    valueIndex = 0\n",
    "    for value in values:\n",
    "        dataIndex = 0\n",
    "        newClasses = []\n",
    "        for datapoint in data:\n",
    "            if datapoint[feature] == value:\n",
    "                featureCounts[valueIndex] += 1\n",
    "                newClasses.append(classes[dataIndex])\n",
    "            dataIndex += 1\n",
    "            \n",
    "        classValues = []\n",
    "        for aclass in newClasses:\n",
    "            if classValues.count(aclass) == 0:\n",
    "                classValues.append(aclass)\n",
    "        classCounts = np.zero(len(classValues))\n",
    "        classIndex = 0\n",
    "        for classValue in classValues:\n",
    "            for aclass in newClasses:\n",
    "                if aclass == classValues:\n",
    "                    classCounts[classIndex] += 1\n",
    "            classIndex += 1\n",
    "        \n",
    "        for classIndex in range(len(classValues)):\n",
    "            entropy[valueIndex] += calc_entropy(float(classCounts[classIndex])/sum(classCounts))\n",
    "            gain += float(featureCounts[valueIndex]) / nData * entropy[valueIndex]\n",
    "            valueIndex += 1\n",
    "    return gain"
   ]
  },
  {
   "cell_type": "code",
   "execution_count": 9,
   "metadata": {},
   "outputs": [],
   "source": [
    "def findPath(graph, start, end, pathSoFar):\n",
    "    pathSoFar = pathSoFar + [start]\n",
    "    if start == end:\n",
    "        return pathSoFar\n",
    "    if start not in graph:\n",
    "        return None\n",
    "    for node in graph[start]:\n",
    "        if node not in pathSoFar:\n",
    "            newpath = findPath(graph, node, end, pathSoFar)\n",
    "            return newpath\n",
    "    return None"
   ]
  },
  {
   "cell_type": "code",
   "execution_count": null,
   "metadata": {},
   "outputs": [],
   "source": [
    "def make_tree(data, classes, featureNames):\n",
    "    nData = len(data)\n",
    "    nFeatures = len(data[0])\n",
    "    newClasses = []\n",
    "    for aclass in classes:\n",
    "        if newClasses.count(aclass) == 0:\n",
    "            newClasses.append(aclass)\n",
    "    frequency = np.zero(len(newClasses))\n",
    "    totalEntropy = 0\n",
    "    totalGini = 0\n",
    "    index = 0\n",
    "    \n",
    "    for aclass in newClasses:\n",
    "        frequency[index] = classes.count(aclass)\n",
    "        totalEntropy += self.calc_entropy(float(frequency[index]) / nData)\n",
    "        totalGini += (float(frequency[index]) / nData) ** 2\n",
    "        \n",
    "        index += 1\n",
    "        \n",
    "    totalGini = 1 - totalGini\n",
    "    default = classes[np.argmax(frequency)]\n",
    "    \n",
    "    if nData == 0 or nFeatures == 0 or (maxlevel >= 0 and level > maxlevel):\n",
    "        return default\n",
    "    elif classes.count(classes[0]) == nData:\n",
    "        return classes[0]\n",
    "    else:\n",
    "        gain = np.zeros(nFeatures)\n",
    "        ggain = np.zeros(nFeatures)\n",
    "        featureSet = range(nFeatures)\n",
    "        if forest != 0:\n",
    "            np.random.shuffle(featureSet)\n",
    "            featureSet = featureSet[0: forest]\n",
    "        for feature in featureSet:\n",
    "            g, gg = self.calc_info_gain(data, classes, feature)\n",
    "            gain[feature] = totalEntropy - g\n",
    "            ggain[feature] = totalGini - gg\n",
    "        bestFeature = np.argmax(gain)\n",
    "        tree = {featureNames[bestFeature]: {}}\n",
    "        \n",
    "        values = []\n",
    "        for datapoint in data:\n",
    "            if datapoint[feature] not in values:\n",
    "                values.append(datapoint[bestFeature])"
   ]
  },
  {
   "cell_type": "code",
   "execution_count": 10,
   "metadata": {},
   "outputs": [
    {
     "ename": "NameError",
     "evalue": "name 'frequency' is not defined",
     "output_type": "error",
     "traceback": [
      "\u001b[0;31m---------------------------------------------------------------------------\u001b[0m",
      "\u001b[0;31mNameError\u001b[0m                                 Traceback (most recent call last)",
      "\u001b[0;32m<ipython-input-10-162184ca75db>\u001b[0m in \u001b[0;36m<module>\u001b[0;34m()\u001b[0m\n\u001b[0;32m----> 1\u001b[0;31m \u001b[0mnp\u001b[0m\u001b[0;34m.\u001b[0m\u001b[0margmax\u001b[0m\u001b[0;34m(\u001b[0m\u001b[0mfrequency\u001b[0m\u001b[0;34m)\u001b[0m\u001b[0;34m\u001b[0m\u001b[0;34m\u001b[0m\u001b[0m\n\u001b[0m",
      "\u001b[0;31mNameError\u001b[0m: name 'frequency' is not defined"
     ]
    }
   ],
   "source": [
    "np.argmax(frequency)"
   ]
  },
  {
   "cell_type": "code",
   "execution_count": null,
   "metadata": {},
   "outputs": [],
   "source": []
  }
 ],
 "metadata": {
  "kernelspec": {
   "display_name": "Python [conda env:venv-2]",
   "language": "python",
   "name": "conda-env-venv-2-py"
  },
  "language_info": {
   "codemirror_mode": {
    "name": "ipython",
    "version": 3
   },
   "file_extension": ".py",
   "mimetype": "text/x-python",
   "name": "python",
   "nbconvert_exporter": "python",
   "pygments_lexer": "ipython3",
   "version": "3.6.7"
  }
 },
 "nbformat": 4,
 "nbformat_minor": 2
}
