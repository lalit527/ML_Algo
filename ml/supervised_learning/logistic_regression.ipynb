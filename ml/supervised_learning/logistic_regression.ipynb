{
 "cells": [
  {
   "cell_type": "code",
   "execution_count": 1,
   "metadata": {},
   "outputs": [],
   "source": [
    "import numpy as np\n",
    "import math"
   ]
  },
  {
   "cell_type": "code",
   "execution_count": 3,
   "metadata": {},
   "outputs": [],
   "source": [
    "import sys\n",
    "sys.path.append(\"/Users/lality/projects/personal/ML_Algo/\")"
   ]
  },
  {
   "cell_type": "code",
   "execution_count": 4,
   "metadata": {},
   "outputs": [],
   "source": [
    "from ml.tools import *"
   ]
  },
  {
   "cell_type": "code",
   "execution_count": 8,
   "metadata": {},
   "outputs": [],
   "source": [
    "class LogisticRegression():\n",
    "    def __init__(self, learning_rate=0.1, gradient_descent=True):\n",
    "        self.param = None\n",
    "        self.learning_rate = learning_rate\n",
    "        self.gradient_descent = gradient_descent\n",
    "        self.sigmoid = Sigmoid()\n",
    "    \n",
    "    def _initialize_parameters(self, X):\n",
    "        n_features = X.shape[1]\n",
    "        limit = 1 / math.sqrt(n_features)\n",
    "        self.param = np.random.uniform(-limit, limit, (n_features,))\n",
    "        \n",
    "    def fit(self, X, y, n_iterations=4000):\n",
    "        self._initialize_parameters(X)\n",
    "        for i in range(n_iterations):\n",
    "            y_pred = self.sigmoid(X.dot(self.params))\n",
    "            if self.gradient_descent:\n",
    "                self.param -=self.learning_rate * -(y - y_pred).dot(X)\n",
    "            else:\n",
    "                diag_gradient = make_diagonal(self.sigmoid.gradient(X.dot(self.param)))\n",
    "                self.param = np.linalg.pinv(X.T.dot(diag_gradient).dot(X)).dot(X.T).dot(diag_gradient.dot(X).dot(self.param) + y - y_pred)\n",
    "                \n",
    "    def predict(self, X):\n",
    "        y_pred = np.round(self.sigmoid(X.dot(self.param))).astype(int)\n",
    "        return y_pred"
   ]
  },
  {
   "cell_type": "code",
   "execution_count": null,
   "metadata": {},
   "outputs": [],
   "source": []
  }
 ],
 "metadata": {
  "kernelspec": {
   "display_name": "Python [conda env:venv-2]",
   "language": "python",
   "name": "conda-env-venv-2-py"
  },
  "language_info": {
   "codemirror_mode": {
    "name": "ipython",
    "version": 3
   },
   "file_extension": ".py",
   "mimetype": "text/x-python",
   "name": "python",
   "nbconvert_exporter": "python",
   "pygments_lexer": "ipython3",
   "version": "3.6.7"
  }
 },
 "nbformat": 4,
 "nbformat_minor": 2
}
