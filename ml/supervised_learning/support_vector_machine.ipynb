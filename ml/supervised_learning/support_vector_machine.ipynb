{
 "cells": [
  {
   "cell_type": "code",
   "execution_count": 1,
   "metadata": {},
   "outputs": [],
   "source": [
    "import numpy as np\n",
    "import math"
   ]
  },
  {
   "cell_type": "code",
   "execution_count": 2,
   "metadata": {},
   "outputs": [],
   "source": [
    "import sys\n",
    "sys.path.append(\"/Users/lality/projects/personal/ML_Algo/\")"
   ]
  },
  {
   "cell_type": "code",
   "execution_count": 4,
   "metadata": {},
   "outputs": [],
   "source": [
    "from ml.tools import *"
   ]
  },
  {
   "cell_type": "code",
   "execution_count": 5,
   "metadata": {},
   "outputs": [],
   "source": [
    "class LinearKernel:\n",
    "    def __call__(self, X, y):\n",
    "        return np.dot(X, y)\n",
    "    \n",
    "class PolyKernel:\n",
    "    def __init__(self, degree):\n",
    "        self.degree = degree\n",
    "        \n",
    "    def __call__(self, X, y):\n",
    "        return np.dot(X, y) ** self.degree\n",
    "    \n",
    "class RbfKernel:\n",
    "    def __init__(self, gamma=0.1):\n",
    "        self.gamma = gamma\n",
    "    \n",
    "    def __call__(self, X, y):\n",
    "        distance = np.linalg.norm(X - y) ** 2\n",
    "        return np.exp(-self.gamma * distance)"
   ]
  },
  {
   "cell_type": "code",
   "execution_count": null,
   "metadata": {},
   "outputs": [],
   "source": [
    "class SVM:\n",
    "    def __init__(self, C=1, kernel='rbf', degree=4, gamma=0.1, coef=4, tol=0.001, max_iter=100):\n",
    "        self.C = C\n",
    "        self.degree = degree\n",
    "        self.gamma = gamma\n",
    "        self.coef = coef\n",
    "        self.tol = tol\n",
    "        self.max_iter = max_iter\n",
    "        if self.kernel == 'rbf':\n",
    "            self.kernel = RbfKernel(self.gamma)\n",
    "        elif self.kernel == 'poly':\n",
    "            self.kernel = PolyKernel(self.degree)\n",
    "        elif self.kernel == 'linear':\n",
    "            self.kernel = LinearKernel()\n",
    "        else:\n",
    "            raise \"Invalid Kernel\"\n",
    "    \n",
    "    def fit(self, X, y):\n",
    "        n_samples, n_features = np.shape(X)\n",
    "        kernel_matrix = np.zeros((n_samples, n_samples))\n",
    "        for i in range(n_samples):\n",
    "            for j in range(n_samples)\n",
    "                kernel_matrix[i, j] = self.kernel(X[i], X[j])\n",
    "        self.alpha = np.zeros(self.n_samples)\n",
    "        self.sv_idx = np.arange(0, self.n_samples)\n",
    "        iters = 0\n",
    "        while "
   ]
  },
  {
   "cell_type": "code",
   "execution_count": 6,
   "metadata": {},
   "outputs": [],
   "source": [
    "from sklearn.svm import SVC"
   ]
  },
  {
   "cell_type": "code",
   "execution_count": null,
   "metadata": {},
   "outputs": [],
   "source": [
    "SVC()and"
   ]
  }
 ],
 "metadata": {
  "kernelspec": {
   "display_name": "Python 3",
   "language": "python",
   "name": "python3"
  },
  "language_info": {
   "codemirror_mode": {
    "name": "ipython",
    "version": 3
   },
   "file_extension": ".py",
   "mimetype": "text/x-python",
   "name": "python",
   "nbconvert_exporter": "python",
   "pygments_lexer": "ipython3",
   "version": "3.6.7"
  }
 },
 "nbformat": 4,
 "nbformat_minor": 2
}
