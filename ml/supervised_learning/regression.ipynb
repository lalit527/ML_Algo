{
 "cells": [
  {
   "cell_type": "code",
   "execution_count": 12,
   "metadata": {},
   "outputs": [],
   "source": [
    "import numpy as np\n",
    "import math"
   ]
  },
  {
   "cell_type": "code",
   "execution_count": 6,
   "metadata": {},
   "outputs": [],
   "source": [
    "import sys\n",
    "sys.path.append(\"/Users/lality/projects/personal/ML_Algo/\")"
   ]
  },
  {
   "cell_type": "code",
   "execution_count": 8,
   "metadata": {},
   "outputs": [],
   "source": [
    "from ml.supervised_learning import DecisionTreeClassifier\n",
    "from ml.tools import *"
   ]
  },
  {
   "cell_type": "code",
   "execution_count": 9,
   "metadata": {},
   "outputs": [],
   "source": [
    "class l1_regularization():\n",
    "    def __init__(self, alpha):\n",
    "        self.alpha = alpha\n",
    "        \n",
    "    def __call__(self, w):\n",
    "        return self.alpha * np.linalg.norm(w)\n",
    "    \n",
    "    def grad(self, w):\n",
    "        return self.alpha * np.sign(w)"
   ]
  },
  {
   "cell_type": "code",
   "execution_count": 10,
   "metadata": {},
   "outputs": [],
   "source": [
    "class l2_regularization():\n",
    "    def __init__(self, alpha):\n",
    "        self.alpha = alpha\n",
    "        \n",
    "    def __call__(self, w):\n",
    "        return self.alpha * 0.5 * w.T.dot(w)\n",
    "    \n",
    "    def grad(self, w):\n",
    "        return self.alpha * w"
   ]
  },
  {
   "cell_type": "code",
   "execution_count": 11,
   "metadata": {},
   "outputs": [],
   "source": [
    "class l1_l2_regularization():\n",
    "    def __init__(self, alpha, l1_ratio=0.5):\n",
    "        self.alpha = alpha\n",
    "        self.l1_ration = l1_ratio\n",
    "        \n",
    "    def __call__(self, w):\n",
    "        l1_contr = self.l1_ratio * np.sign(w)\n",
    "        l2_contr = (1 - self.l1_ratio) * 0.5 * w.T.dot(w)\n",
    "        return self.alpha * (l1_contr + l2_contr)\n",
    "    \n",
    "    def grad(self, w):\n",
    "        l1_contr = self.l1_ratio * np.sign(w)\n",
    "        l2_contr = (1 - self.l1_ratio) * w\n",
    "        return self.alpha * (l1_contr + l2_contr)"
   ]
  },
  {
   "cell_type": "code",
   "execution_count": 13,
   "metadata": {},
   "outputs": [],
   "source": [
    "class Regression:\n",
    "    def __init__(self, n_iterations, learning_rate):\n",
    "        self.n_iterations = n_iterations\n",
    "        self.learning_rate = learning_rate\n",
    "    \n",
    "    def initialize_weights(self, n_features):\n",
    "        limit = 1 / math.sqrt(n_features)\n",
    "        self.w = np.random.uniform(-limit, limit, (n_features, ))\n",
    "        \n",
    "    def fit(self, X, y):\n",
    "        X = np.insert(X, 0, 1, axis=1)\n",
    "        self.training_errors = []\n",
    "        self.initialize_weights(n_features=X.shape[1])\n",
    "        for i in range(self.n_iterations):\n",
    "            y_pred = X.dot(self.w)\n",
    "            mes = np.mean(0.5 * np.power((y - y_pred), 2) + self.regularization(self.w))\n",
    "            self.training_errors.append(mse)\n",
    "            grad_w = -(y - y_pred).dot(X) + self.regularization.grad(self.w)\n",
    "            self.w -= learning_rate * grad_w\n",
    "            \n",
    "    def predict(self, X):\n",
    "        X = np.insert(X, 0, 1, axis=1)\n",
    "        y_pred = X.dot(self.w)\n",
    "        return y_pred"
   ]
  },
  {
   "cell_type": "code",
   "execution_count": 15,
   "metadata": {},
   "outputs": [],
   "source": [
    "class LinearRegression(Regression):\n",
    "    def __init___(self, n_iterations=100, learning_rate=0.001, gradient_descent=True):\n",
    "        self.gradient_descent = gradient_descent\n",
    "        self.regularization = lambda x: 0\n",
    "        self.regularization.grad = lambda x: 0\n",
    "        super(LinearRegression, self).__init__(n_iterations=n_iterations, learning_rate=learning_rate)\n",
    "        \n",
    "    def fit(self, X, y):\n",
    "        if not self.gradient_descent:\n",
    "            X = np.insert(X, 0, 1, axis=1)\n",
    "            U, S, V = np.linalg.svd(X.T.dot(X))\n",
    "            S = np.diag(S)\n",
    "            X_sq_reg_inv = V.dot(np.linalg.pinv(S)).dot(U.T)\n",
    "            self.w = X_sq_reg_inv.dot(X.T).dot(y)\n",
    "        else:\n",
    "            super(LinearRegression, self).fit(X, y)"
   ]
  },
  {
   "cell_type": "code",
   "execution_count": 17,
   "metadata": {},
   "outputs": [],
   "source": [
    "class LassoRegression(Regression):\n",
    "    def __init__(self, degree, reg_factor, n_iterations=300, learning_rate=0.01):\n",
    "        self.degree = degree\n",
    "        self.regularization = l1_regularization(alpha=reg_factor)\n",
    "        super(LassoRegularization, self).__init__(n_iterations=n_iterations, learning_rate=learning_rate)\n",
    "        \n",
    "    def fit(self, X, y):\n",
    "        X = normalize(polynomial_feature(X, degree=self.degree))\n",
    "        super(LassoRegularization, self).fit(X, y)\n",
    "        \n",
    "    def predict(self, X):\n",
    "        X = normalize(polynomial_feature(X, degree=self.degree))\n",
    "        return super(LassoRegularization, self).fit(X)"
   ]
  },
  {
   "cell_type": "code",
   "execution_count": 18,
   "metadata": {},
   "outputs": [],
   "source": [
    "class PolynomialRegression(Regression):\n",
    "    def __init__(self, degree, n_iterations=300, learning_rate=0.001):\n",
    "        self.degree = degree\n",
    "        self.regularization = lambda x: 0\n",
    "        self.regularization.grad = lambda x: 0\n",
    "        super(PolynomialRegression, self).__init__(n_iterations=n_iterations, learning_rate=learning_rate)\n",
    "        \n",
    "    def fit(self, X, y):\n",
    "        X = polynomial_feature(X, degree=self.degree)\n",
    "        super(PolynomialRegression, self).fit(X, y)\n",
    "        \n",
    "    def predict(self, X):\n",
    "        X = polynomial_feature(X, degree=self.degree)\n",
    "        return super(PolynomialRegression, self).predict(X)"
   ]
  },
  {
   "cell_type": "code",
   "execution_count": 19,
   "metadata": {},
   "outputs": [],
   "source": [
    "class RidgeRegression(Regression):\n",
    "    def __init__(self, reg_factor, n_iterations=300, learning_rate=0.01):\n",
    "        self.regularization = l2_regularization(alpha=reg_factor)\n",
    "        super(RidgeRegression, self).__init__(n_iterations=n_iterations, learning_rate=learning_rate)\n",
    "        "
   ]
  },
  {
   "cell_type": "code",
   "execution_count": 24,
   "metadata": {},
   "outputs": [],
   "source": [
    "class PolynomialRidgeRegression(Regression):\n",
    "    def __init__(self, degree, reg_factor, n_iterations=300, learning_rate=0.01, gradient_descent=True):\n",
    "        self.degree = degree\n",
    "        self.regularization = l2_regularization(alpha=reg_factor)\n",
    "        super(PolynomialRegression, self).__init__(n_iterations, learning_rate)\n",
    "    \n",
    "    def fit(self, X, y):\n",
    "        X = normalize(polynomial_feature(X, degree=self.degree))\n",
    "        super(PolynomialRegression, self).fit(X, y)\n",
    "\n",
    "    def predict(self, X):\n",
    "        X = normalize(polynomial_feature(X, degree=self.degree))\n",
    "        return super(PolynomialRidgeRegression, self).fit(X, y)"
   ]
  },
  {
   "cell_type": "code",
   "execution_count": 25,
   "metadata": {},
   "outputs": [],
   "source": [
    "class ElasticNet(Regression):\n",
    "    def __init__(self, degree, reg_factor=0.05, l1_ratio= 0.5, n_iterations=3000, learning_rate=0.01, gradient_descent=True):\n",
    "        self.degree = degree\n",
    "        self.regularization = l1_l2_regularization(reg_factor, l1_ratio)\n",
    "        super(ElasticNet, self).__init__(n_iterations, learning_rate)\n",
    "        \n",
    "    def fit(self, X, y):\n",
    "        X = normalize(polynomial_feature(X, degree=self.degree))\n",
    "        super(ElasticNet, self).fit(X, y)\n",
    "\n",
    "    def predict(self, X):\n",
    "        X = normalize(polynomial_feature(X, degree=self.degree))\n",
    "        return super(ElasticNet, self).fit(X, y)    \n",
    "    "
   ]
  },
  {
   "cell_type": "code",
   "execution_count": null,
   "metadata": {},
   "outputs": [],
   "source": []
  }
 ],
 "metadata": {
  "kernelspec": {
   "display_name": "Python [conda env:venv-2]",
   "language": "python",
   "name": "conda-env-venv-2-py"
  },
  "language_info": {
   "codemirror_mode": {
    "name": "ipython",
    "version": 3
   },
   "file_extension": ".py",
   "mimetype": "text/x-python",
   "name": "python",
   "nbconvert_exporter": "python",
   "pygments_lexer": "ipython3",
   "version": "3.6.7"
  }
 },
 "nbformat": 4,
 "nbformat_minor": 2
}
