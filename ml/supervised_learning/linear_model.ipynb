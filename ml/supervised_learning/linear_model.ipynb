{
 "cells": [
  {
   "cell_type": "code",
   "execution_count": 53,
   "metadata": {},
   "outputs": [],
   "source": [
    "import numpy as np\n",
    "import math\n",
    "np.se"
   ]
  },
  {
   "cell_type": "code",
   "execution_count": 452,
   "metadata": {},
   "outputs": [],
   "source": [
    "class Regression:\n",
    "    def __init__(self, n_iteration=3000, learning_rate = 0.01):\n",
    "        self.n_iteration = n_iteration\n",
    "        self.learning_rate = learning_rate\n",
    "        self.epsilon = 1e-3\n",
    "        \n",
    "    def _initialize_weight(self, n_features):\n",
    "        limit = 1 / math.sqrt(n_features)\n",
    "        self.theta = np.zeros((n_features, ), dtype=np.float32) # np.random.uniform(-limit, limit, (n_features, ))\n",
    "        \n",
    "    def _compute_cost(self, y, y_pred, m):\n",
    "        J = 0\n",
    "        J = (1 / (2 * m)) * np.asscalar(np.dot((y_pred - y), (y_pred - y).T))\n",
    "#         J = (1.0 / (2.0 * m)) * np.sum(np.square(y_pred - y))\n",
    "        return np.round(J, 2)\n",
    "        \n",
    "    def fit(self, X, y):\n",
    "        X = np.array(X, dtype=np.float32)\n",
    "        y = np.array(y, dtype=np.float32)\n",
    "        X = np.round(X, 2)\n",
    "        y = np.round(y, 2)\n",
    "        X = np.insert(X, 0, 1, axis=1)\n",
    "        m = np.size(y)\n",
    "        self.J_iterations = []\n",
    "        self._initialize_weight(n_features=X.shape[1])\n",
    "        J_current = 100.0\n",
    "        J_prev = 100.0\n",
    "        for _ in np.arange(self.n_iteration):\n",
    "            y_pred = X.dot(self.theta)\n",
    "            J_prev = J_current\n",
    "            \n",
    "            J_current = self._compute_cost(y, y_pred, m)\n",
    "            \n",
    "            self.J_iterations.append(J_current)\n",
    "            gradient =  (1.0/m) * (X.T.dot(y_pred - y))\n",
    "            print(J_current, gradient)\n",
    "            if J_prev  - J_current < self.epsilon: break\n",
    "            self.theta -= self.learning_rate * np.round(gradient, 2)\n",
    "            \n",
    "    def predict(self, X):\n",
    "        X = np.array(X, dtype=np.float32)\n",
    "        X = np.round(X, 2)\n",
    "        X = np.insert(X, 0, 1, axis=1)\n",
    "        y_pred = X.dot(self.theta)\n",
    "        return y_pred"
   ]
  },
  {
   "cell_type": "code",
   "execution_count": 446,
   "metadata": {},
   "outputs": [],
   "source": [
    "from sklearn.linear_model import LinearRegression"
   ]
  },
  {
   "cell_type": "code",
   "execution_count": 447,
   "metadata": {},
   "outputs": [],
   "source": [
    "X = np.array([1, 2, 3, 4, 5])\n",
    "y = np.array([1, 4, 9, 16, 25])"
   ]
  },
  {
   "cell_type": "code",
   "execution_count": 448,
   "metadata": {},
   "outputs": [],
   "source": [
    "X = X.reshape((X.shape[0], -1))"
   ]
  },
  {
   "cell_type": "code",
   "execution_count": null,
   "metadata": {},
   "outputs": [],
   "source": []
  },
  {
   "cell_type": "code",
   "execution_count": null,
   "metadata": {},
   "outputs": [],
   "source": []
  },
  {
   "cell_type": "code",
   "execution_count": 419,
   "metadata": {},
   "outputs": [
    {
     "data": {
      "text/plain": [
       "inf"
      ]
     },
     "execution_count": 419,
     "metadata": {},
     "output_type": "execute_result"
    }
   ],
   "source": [
    "1.5660733861264326918e+595"
   ]
  },
  {
   "cell_type": "code",
   "execution_count": 233,
   "metadata": {},
   "outputs": [],
   "source": [
    "from sklearn.metrics import r2_score"
   ]
  },
  {
   "cell_type": "code",
   "execution_count": 239,
   "metadata": {},
   "outputs": [
    {
     "data": {
      "text/plain": [
       "-66.36287754552649"
      ]
     },
     "execution_count": 239,
     "metadata": {},
     "output_type": "execute_result"
    }
   ],
   "source": [
    "r2_score(y_test, t)"
   ]
  },
  {
   "cell_type": "code",
   "execution_count": 204,
   "metadata": {},
   "outputs": [],
   "source": [
    "from sklearn.linear_model import LinearRegression"
   ]
  },
  {
   "cell_type": "code",
   "execution_count": 240,
   "metadata": {},
   "outputs": [
    {
     "data": {
      "text/plain": [
       "LinearRegression(copy_X=True, fit_intercept=True, n_jobs=None,\n",
       "         normalize=False)"
      ]
     },
     "execution_count": 240,
     "metadata": {},
     "output_type": "execute_result"
    }
   ],
   "source": [
    "lm = LinearRegression()\n",
    "lm.fit(X_train, y_train)"
   ]
  },
  {
   "cell_type": "code",
   "execution_count": 241,
   "metadata": {},
   "outputs": [],
   "source": [
    "prd = lm.predict(X_test)"
   ]
  },
  {
   "cell_type": "code",
   "execution_count": 242,
   "metadata": {},
   "outputs": [
    {
     "data": {
      "text/plain": [
       "-0.3720700299809594"
      ]
     },
     "execution_count": 242,
     "metadata": {},
     "output_type": "execute_result"
    }
   ],
   "source": [
    "r2_score(y_test, prd)"
   ]
  },
  {
   "cell_type": "code",
   "execution_count": 244,
   "metadata": {},
   "outputs": [
    {
     "name": "stdout",
     "output_type": "stream",
     "text": [
      "28.67259959085611 [-1.91246374e-01  4.42289967e-02  5.52207977e-02  1.71631351e+00\n",
      " -1.49957220e+01  4.88773025e+00  2.60921031e-03 -1.29480799e+00\n",
      "  4.84787214e-01 -1.54006673e-02 -8.08795026e-01 -1.29230427e-03\n",
      " -5.17953791e-01]\n"
     ]
    }
   ],
   "source": [
    "print(lm.intercept_, lm.coef_)"
   ]
  },
  {
   "cell_type": "code",
   "execution_count": 124,
   "metadata": {},
   "outputs": [],
   "source": [
    "theta = np.random.uniform(-limit, limit, (14, ))"
   ]
  },
  {
   "cell_type": "code",
   "execution_count": 125,
   "metadata": {},
   "outputs": [
    {
     "data": {
      "text/plain": [
       "array([ 0.1009855 ,  0.10834302, -0.11094864,  0.19242394,  0.17080736,\n",
       "        0.11450091, -0.19354779, -0.07140507, -0.17277099, -0.02559209,\n",
       "       -0.21235526, -0.19414595, -0.12660648,  0.07243224])"
      ]
     },
     "execution_count": 125,
     "metadata": {},
     "output_type": "execute_result"
    }
   ],
   "source": [
    "theta"
   ]
  },
  {
   "cell_type": "code",
   "execution_count": 132,
   "metadata": {},
   "outputs": [],
   "source": [
    "y_pred = X.dot(theta)"
   ]
  },
  {
   "cell_type": "code",
   "execution_count": 134,
   "metadata": {},
   "outputs": [],
   "source": [
    "m = len(y)"
   ]
  },
  {
   "cell_type": "code",
   "execution_count": 135,
   "metadata": {},
   "outputs": [
    {
     "data": {
      "text/plain": [
       "12413.88404589118"
      ]
     },
     "execution_count": 135,
     "metadata": {},
     "output_type": "execute_result"
    }
   ],
   "source": [
    "(1 / (2 * m)) * np.asscalar(np.dot((y_pred - y), (y_pred - y).T))"
   ]
  },
  {
   "cell_type": "code",
   "execution_count": 138,
   "metadata": {},
   "outputs": [],
   "source": [
    "g = (1/m) * (X.T.dot(y_pred - y))"
   ]
  },
  {
   "cell_type": "code",
   "execution_count": 139,
   "metadata": {},
   "outputs": [],
   "source": [
    "theta = theta - 0.01 * g"
   ]
  },
  {
   "cell_type": "code",
   "execution_count": 140,
   "metadata": {},
   "outputs": [
    {
     "data": {
      "text/plain": [
       "array([1.65597003e+00, 3.54678165e+00, 2.22904548e+01, 1.54365373e+01,\n",
       "       3.15790381e-01, 9.50749208e-01, 9.66584184e+00, 1.01696856e+02,\n",
       "       6.17962647e+00, 1.15642337e+01, 5.72600044e+02, 2.78872439e+01,\n",
       "       5.91587323e+02, 1.77602886e+01])"
      ]
     },
     "execution_count": 140,
     "metadata": {},
     "output_type": "execute_result"
    }
   ],
   "source": [
    "theta"
   ]
  },
  {
   "cell_type": "code",
   "execution_count": 163,
   "metadata": {},
   "outputs": [
    {
     "data": {
      "text/plain": [
       "0.01"
      ]
     },
     "execution_count": 163,
     "metadata": {},
     "output_type": "execute_result"
    }
   ],
   "source": [
    "10e-3"
   ]
  },
  {
   "cell_type": "code",
   "execution_count": null,
   "metadata": {},
   "outputs": [],
   "source": []
  }
 ],
 "metadata": {
  "kernelspec": {
   "display_name": "Python 3",
   "language": "python",
   "name": "python3"
  },
  "language_info": {
   "codemirror_mode": {
    "name": "ipython",
    "version": 3
   },
   "file_extension": ".py",
   "mimetype": "text/x-python",
   "name": "python",
   "nbconvert_exporter": "python",
   "pygments_lexer": "ipython3",
   "version": "3.6.7"
  }
 },
 "nbformat": 4,
 "nbformat_minor": 2
}
