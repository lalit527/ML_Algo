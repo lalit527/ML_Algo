{
 "cells": [
  {
   "cell_type": "code",
   "execution_count": 38,
   "metadata": {},
   "outputs": [],
   "source": [
    "import numpy as np\n",
    "import math"
   ]
  },
  {
   "cell_type": "code",
   "execution_count": 37,
   "metadata": {},
   "outputs": [],
   "source": [
    "import sys\n",
    "sys.path.append(\"/Users/lality/projects/personal/ML_Algo/\")"
   ]
  },
  {
   "cell_type": "code",
   "execution_count": 40,
   "metadata": {},
   "outputs": [],
   "source": [
    "from ml.supervised_learning import DecisionTreeClassifier\n",
    "from ml.tools import *"
   ]
  },
  {
   "cell_type": "code",
   "execution_count": 36,
   "metadata": {},
   "outputs": [],
   "source": [
    "class RandomForest():\n",
    "    def __init__(self, n_estimators=100, max_features=None, min_samples_split=2,\n",
    "                 min_gain=0, max_depth=float(\"inf\")):\n",
    "        self.n_estimators = n_estimators          # Number of trees\n",
    "        self.max_features = max_features            # Maxmimum number of features per tree\n",
    "        self.min_samples_split = min_samples_split  # Minimum sample in a node for split\n",
    "        self.min_gain = min_gain                  # Minimum information gain required to continue\n",
    "        self.max_depth = max_depth                # Maximum depth of tree\n",
    "        self.tree = []\n",
    "        \n",
    "        for _ in range(self.n_estimators):\n",
    "            self.tree.append(\n",
    "                DecisionTreeClassifier(min_samples_split=self.min_samples_split,\n",
    "                                       min_impurity=min_gain,\n",
    "                                       max_depth=self.max_depth))\n",
    "    \n",
    "    def fit(self, X, y):\n",
    "        n_feature = np.shape(X)[1]\n",
    "        if not self.max_feature:\n",
    "            self.max_feature = int(math.sqrt(n_features))\n",
    "        \n",
    "        subsets = get_random_subsets(X, y, self.n_estimators)\n",
    "        \n",
    "        for i in range(self.n_estimators):\n",
    "            X_subset, y_subset = subsets[i]\n",
    "            idx = np.random.choice(range(n_features), size=self.max_features, replace=True)\n",
    "            self.tree[i].feature_indices = idx\n",
    "            X_subset = X_subset[:, idx]\n",
    "            self.tree[i].fit(X_subset, y_subset)\n",
    "            \n",
    "        def predict(self, X):\n",
    "            y_preds = np.empty((X.shape[0], len(self.trees)))\n",
    "            for i, tree in enumerate(self.trees):\n",
    "                idx = tree.feature_indices\n",
    "                prediction = tree.predict(X[:, idx])\n",
    "                y_preds[:, i] = prediction\n",
    "            y_pred = []\n",
    "            for sample_prediction in y_preds:\n",
    "                y_pred.append(np.bincount(sample_prediction.astype('int')).argmax())\n",
    "            return y_pred"
   ]
  },
  {
   "cell_type": "code",
   "execution_count": null,
   "metadata": {},
   "outputs": [],
   "source": []
  }
 ],
 "metadata": {
  "kernelspec": {
   "display_name": "Python [conda env:venv-2]",
   "language": "python",
   "name": "conda-env-venv-2-py"
  },
  "language_info": {
   "codemirror_mode": {
    "name": "ipython",
    "version": 3
   },
   "file_extension": ".py",
   "mimetype": "text/x-python",
   "name": "python",
   "nbconvert_exporter": "python",
   "pygments_lexer": "ipython3",
   "version": "3.6.7"
  }
 },
 "nbformat": 4,
 "nbformat_minor": 2
}
