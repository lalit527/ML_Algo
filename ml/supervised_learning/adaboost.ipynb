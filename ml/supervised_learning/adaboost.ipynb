{
 "cells": [
  {
   "cell_type": "code",
   "execution_count": 2,
   "metadata": {},
   "outputs": [],
   "source": [
    "import numpy as np\n",
    "import math"
   ]
  },
  {
   "cell_type": "code",
   "execution_count": 5,
   "metadata": {},
   "outputs": [],
   "source": [
    "import sys\n",
    "sys.path.append(\"/Users/lality/projects/personal/ML_Algo/\")"
   ]
  },
  {
   "cell_type": "code",
   "execution_count": 6,
   "metadata": {},
   "outputs": [],
   "source": [
    "from ml.tools import *"
   ]
  },
  {
   "cell_type": "code",
   "execution_count": 7,
   "metadata": {},
   "outputs": [],
   "source": [
    "class DesicionStump:\n",
    "    def __init__(self):\n",
    "        self.polarity = 1          # Determines if sample shall be classified as -1 or 1 given threshold\n",
    "        self.feature_index = None  # The index of the feature used to make classification\n",
    "        self.threshold = None      # The threshold value that the feature should be measured against\n",
    "        self.alpha = None          # Value indicative of the classifier's accuracy\n",
    "        \n",
    "class Adaboost:\n",
    "    def __init__(self, n_clf=5):\n",
    "        self.n_clf = n_clf\n",
    "        \n",
    "    def fit(self, X, y):\n",
    "        n_samples, n_features = X.shape\n",
    "        weights = np.full(n_samples, (1 / n_samples))\n",
    "        \n",
    "        self.clfs = []\n",
    "        \n",
    "        for _ in range(self.n_clf):\n",
    "            clf = DesicionStump()\n",
    "            min_error = float('inf')\n",
    "            for feature_i in range(n_features):\n",
    "                feature_values = np.expand_dims(X[:, feature_i], axis=1)\n",
    "                unique_values = np.unique(feature_values)\n",
    "                for threshold in unique_values:\n",
    "                    p = 1\n",
    "                    prediction = np.ones(np.shape(y))\n",
    "                    prediction[X[:, feature_i] < threshold] = -1\n",
    "                    error = sum(weights[y != prediction])\n",
    "                    \n",
    "                    if error > 0.5:\n",
    "                        error = 1 - error\n",
    "                        p = -1\n",
    "                        \n",
    "                    if error < min_error:\n",
    "                        clf.polarity = p\n",
    "                        clf.threshold = threshold\n",
    "                        clf.feature_index = feature_i\n",
    "                        min_error = error\n",
    "            clf.alpha = 0.5 * math.log((1.0 - min_error) / (min_error + 1e-10))\n",
    "            predictions = np.ones(np.shape(y))\n",
    "            negetive_idx = (clf.polarity * X[:, clf.feature_index] < clf.polarity * clf.threshold)\n",
    "            predictions[negetive_idx] = -1\n",
    "            w *= np.exp(-clf.alpha * y * predictions)\n",
    "            w /= np.sum(w)\n",
    "            self.clfs.append(clf)\n",
    "            \n",
    "    def predict(self, X):\n",
    "        n_samples = X.shape[0]\n",
    "        y_pred = np.zeros((n_samples, 1))\n",
    "        for clf in self.clfs:\n",
    "            predictions = np.ones(np.shape(y_pred))\n",
    "            negetive_idx = (clf.polarity * X[:, clf.feature_index] < clf.polarity * clf.threshold)\n",
    "            predictions[negetive_idx] = -1\n",
    "            y_pred += clf.alpha * predictions\n",
    "        y_pred = np.sign(y_pred).flatten()\n",
    "        return y_pred\n"
   ]
  },
  {
   "cell_type": "code",
   "execution_count": null,
   "metadata": {},
   "outputs": [],
   "source": []
  }
 ],
 "metadata": {
  "kernelspec": {
   "display_name": "Python [conda env:venv-2]",
   "language": "python",
   "name": "conda-env-venv-2-py"
  },
  "language_info": {
   "codemirror_mode": {
    "name": "ipython",
    "version": 3
   },
   "file_extension": ".py",
   "mimetype": "text/x-python",
   "name": "python",
   "nbconvert_exporter": "python",
   "pygments_lexer": "ipython3",
   "version": "3.6.7"
  }
 },
 "nbformat": 4,
 "nbformat_minor": 2
}
